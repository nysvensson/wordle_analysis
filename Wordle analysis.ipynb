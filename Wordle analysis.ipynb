{
 "cells": [
  {
   "cell_type": "code",
   "execution_count": 1,
   "id": "a39f7460",
   "metadata": {},
   "outputs": [],
   "source": [
    "from collections import Counter"
   ]
  },
  {
   "cell_type": "code",
   "execution_count": 2,
   "id": "8d6d9c75",
   "metadata": {},
   "outputs": [],
   "source": [
    "# using the file from https://gist.github.com/cfreshman/dec102adb5e60a8299857cbf78f6cf57\n",
    "with open('wordle-answers-alphabetical.txt') as f:\n",
    "   answer_words = f.readlines()\n",
    "\n",
    "with open('allowed.txt') as f:\n",
    "   allowed_words = f.readlines()"
   ]
  },
  {
   "cell_type": "markdown",
   "metadata": {},
   "source": []
  },
  {
   "cell_type": "code",
   "execution_count": 5,
   "id": "7601e3c6",
   "metadata": {},
   "outputs": [],
   "source": [
    "answer_words = [word[:5] for word in answer_words]\n",
    "allowed_words = [word[:5] for word in allowed_words]"
   ]
  },
  {
   "cell_type": "code",
   "execution_count": 7,
   "id": "727d7584",
   "metadata": {},
   "outputs": [
    {
     "name": "stdout",
     "output_type": "stream",
     "text": [
      "['aback', 'abase', 'abate', 'abbey', 'abbot', 'abhor', 'abide', 'abled', 'abode', 'abort']\n"
     ]
    }
   ],
   "source": [
    "print(answer_words[:10])"
   ]
  },
  {
   "cell_type": "code",
   "execution_count": 9,
   "id": "95dc783c",
   "metadata": {},
   "outputs": [
    {
     "name": "stdout",
     "output_type": "stream",
     "text": [
      "Counter({'s': 366, 'c': 198, 'b': 173, 't': 149, 'p': 142, 'a': 141, 'f': 136, 'g': 115, 'd': 111, 'm': 107, 'r': 105, 'l': 88, 'w': 83, 'e': 72, 'h': 69, 'v': 43, 'o': 41, 'n': 37, 'i': 34, 'u': 33, 'q': 23, 'j': 20, 'k': 20, 'y': 6, 'z': 3})\n"
     ]
    }
   ],
   "source": [
    "# Create a score for each letter in each position, based on the frequency of that letter appearing in the answers\n",
    "positions = [Counter(),Counter(),Counter(),Counter(),Counter()]\n",
    "for word in answer_words:\n",
    "    for index,letter in enumerate(word):\n",
    "        positions[index][letter] += 1\n",
    "        \n",
    "print(positions[0])"
   ]
  },
  {
   "cell_type": "code",
   "execution_count": 13,
   "id": "20300b50",
   "metadata": {},
   "outputs": [
    {
     "name": "stdout",
     "output_type": "stream",
     "text": [
      "[('slate', 1437), ('sauce', 1411), ('slice', 1409), ('shale', 1403), ('saute', 1398), ('share', 1393), ('sooty', 1392), ('shine', 1382), ('suite', 1381), ('crane', 1378), ('saint', 1371), ('soapy', 1366), ('shone', 1360), ('shire', 1352), ('saucy', 1351), ('slave', 1344), ('cease', 1342), ('sense', 1342), ('saner', 1339), ('snare', 1336), ('stale', 1336), ('crate', 1335), ('spree', 1332), ('shore', 1330), ('suave', 1329), ('slide', 1326), ('stare', 1326), ('slime', 1325), ('sorry', 1324), ('brace', 1323), ('shiny', 1322), ('gooey', 1320), ('seize', 1318), ('crone', 1315), ('sleet', 1315), ('state', 1313), ('brine', 1312), ('scree', 1311), ('shade', 1310), ('space', 1310), ('spare', 1310), ('shame', 1309), ('slant', 1309), ('sally', 1308), ('scale', 1299), ('spine', 1299), ('trace', 1299), ('shake', 1296), ('stone', 1293), ('tease', 1293), ('shape', 1291), ('scare', 1289), ('shave', 1287), ('salty', 1285), ('sassy', 1285), ('slope', 1285), ('since', 1283), ('poise', 1282), ('swine', 1282), ('boney', 1273), ('snore', 1273), ('stole', 1273), ('sadly', 1271), ('raise', 1270), ('arise', 1269), ('spice', 1269), ('spire', 1269), ('peace', 1267), ('grace', 1265), ('slimy', 1265), ('store', 1263), ('cause', 1262), ('crier', 1261), ('prone', 1259), ('sheet', 1258), ('trice', 1258), ('blare', 1257), ('plane', 1256), ('scone', 1256), ('smile', 1256), ('spite', 1256), ('crony', 1255), ('briny', 1252), ('grate', 1252), ('salve', 1252), ('cagey', 1251), ('price', 1251), ('shady', 1250), ('stage', 1250), ('clone', 1249), ('prose', 1248), ('arose', 1247), ('spore', 1247), ('skate', 1246), ('siege', 1245), ('surer', 1245), ('trite', 1245), ('chase', 1244), ('crave', 1242), ('sandy', 1242)]\n"
     ]
    }
   ],
   "source": [
    "# now let's score the corpus, including the allowed words that will never be answers \n",
    "# (this doesn't actuallly change the answer: the best words are also possible answers)\n",
    "\n",
    "scored_words = []\n",
    "for word in answer_words + allowed_words:\n",
    "    score = 0\n",
    "    for index,letter in enumerate(word):\n",
    "        score += positions[index][letter]\n",
    "    scored_words.append((word, score))\n",
    "scored_words.sort(key = lambda x:x[1], reverse = True)\n",
    "print(scored_words[:100])"
   ]
  },
  {
   "cell_type": "code",
   "execution_count": 11,
   "id": "b4beee0a",
   "metadata": {},
   "outputs": [
    {
     "name": "stdout",
     "output_type": "stream",
     "text": [
      "Best first word: slate\n"
     ]
    }
   ],
   "source": [
    "best_word = scored_words[0][0]\n",
    "print(f\"Best first word: {best_word}\")"
   ]
  },
  {
   "cell_type": "code",
   "execution_count": 16,
   "id": "16b42620",
   "metadata": {},
   "outputs": [
    {
     "name": "stdout",
     "output_type": "stream",
     "text": [
      "Best second word: ('crony', 1255)\n"
     ]
    }
   ],
   "source": [
    "#now let's find the best companion word. It's the highest-scoring word\n",
    "#that doesn't share any letters with the first word\n",
    "\n",
    "for scored_word in scored_words:\n",
    "    if not any([letter in best_word for letter in scored_word[0]]):  \n",
    "        break\n",
    "\n",
    "print(f\"Best second word: {scored_word}\")"
   ]
  },
  {
   "cell_type": "code",
   "execution_count": 24,
   "id": "03c0ae1f",
   "metadata": {},
   "outputs": [
    {
     "name": "stdout",
     "output_type": "stream",
     "text": [
      "Best combo: (('slate', 1437), ('crony', 1255))\n"
     ]
    }
   ],
   "source": [
    "# Ok, but is slate-crony really the best combo? It's possible there's a lower-scoring\n",
    "# word than \"slate\" that has a higher-scoring companion than \"crony\", for a higher total\n",
    "# score. Let's take a look at that. Since we know the answer has to beat slate-crony, we \n",
    "# can limit the counting pretty heavily\n",
    "\n",
    "max_score = 0\n",
    "for first_scored_word in scored_words[:100]:\n",
    "    score = first_scored_word[1]\n",
    "    for second_scored_word in scored_words[:100]:\n",
    "        if not any([letter in best_word for letter in second_scored_word[0]]):\n",
    "            score += second_scored_word[1]\n",
    "            if score > max_score:\n",
    "                max_score = score\n",
    "                best_combo = (first_scored_word, second_scored_word)\n",
    "            break\n",
    "\n",
    "print(f\"Best combo: {best_combo}\")"
   ]
  },
  {
   "cell_type": "code",
   "execution_count": null,
   "metadata": {},
   "outputs": [],
   "source": [
    "# Ok, we can't best our slate of cronies!"
   ]
  }
 ],
 "metadata": {
  "interpreter": {
   "hash": "7490029a00de1c5792881b8eb601592d3e4f5873067e1bee3b34ca71805ac361"
  },
  "kernelspec": {
   "display_name": "Python 3.7.9 64-bit",
   "name": "python3"
  },
  "language_info": {
   "codemirror_mode": {
    "name": "ipython",
    "version": 3
   },
   "file_extension": ".py",
   "mimetype": "text/x-python",
   "name": "python",
   "nbconvert_exporter": "python",
   "pygments_lexer": "ipython3",
   "version": "3.7.9"
  }
 },
 "nbformat": 4,
 "nbformat_minor": 5
}
