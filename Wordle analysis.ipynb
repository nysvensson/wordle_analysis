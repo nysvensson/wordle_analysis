{
 "cells": [
  {
   "cell_type": "code",
   "execution_count": 1,
   "id": "a39f7460",
   "metadata": {},
   "outputs": [],
   "source": [
    "from collections import Counter"
   ]
  },
  {
   "cell_type": "code",
   "execution_count": 55,
   "id": "8d6d9c75",
   "metadata": {},
   "outputs": [],
   "source": [
    "# using the file from https://gist.github.com/cfreshman/dec102adb5e60a8299857cbf78f6cf57\n",
    "with open('wordle-answers-alphabetical.txt') as f:\n",
    "   answer_words = f.readlines()\n",
    "\n",
    "with open('allowed.txt') as f:\n",
    "   allowed_words = f.readlines()"
   ]
  },
  {
   "cell_type": "markdown",
   "id": "23e0ab24",
   "metadata": {},
   "source": []
  },
  {
   "cell_type": "code",
   "execution_count": 56,
   "id": "7601e3c6",
   "metadata": {},
   "outputs": [],
   "source": [
    "answer_words = [word[:5] for word in answer_words]\n",
    "allowed_words = [word[:5] for word in allowed_words]"
   ]
  },
  {
   "cell_type": "code",
   "execution_count": 57,
   "id": "727d7584",
   "metadata": {},
   "outputs": [
    {
     "name": "stdout",
     "output_type": "stream",
     "text": [
      "['aback', 'abase', 'abate', 'abbey', 'abbot', 'abhor', 'abide', 'abled', 'abode', 'abort']\n"
     ]
    }
   ],
   "source": [
    "print(answer_words[:10])"
   ]
  },
  {
   "cell_type": "code",
   "execution_count": 58,
   "id": "95dc783c",
   "metadata": {},
   "outputs": [
    {
     "name": "stdout",
     "output_type": "stream",
     "text": [
      "First letter values Counter({'s': 366, 'c': 198, 'b': 173, 't': 149, 'p': 142, 'a': 141, 'f': 136, 'g': 115, 'd': 111, 'm': 107, 'r': 105, 'l': 88, 'w': 83, 'e': 72, 'h': 69, 'v': 43, 'o': 41, 'n': 37, 'i': 34, 'u': 33, 'q': 23, 'j': 20, 'k': 20, 'y': 6, 'z': 3})\n",
      "Second letter values Counter({'a': 304, 'o': 279, 'r': 267, 'e': 242, 'i': 202, 'l': 201, 'u': 186, 'h': 144, 'n': 87, 't': 77, 'p': 61, 'w': 44, 'c': 40, 'm': 38, 'y': 23, 'd': 20, 'b': 16, 's': 16, 'v': 15, 'x': 14, 'g': 12, 'k': 10, 'f': 8, 'q': 5, 'z': 2, 'j': 2})\n",
      "Third letter values Counter({'a': 307, 'i': 266, 'o': 244, 'e': 177, 'u': 165, 'r': 163, 'n': 139, 'l': 112, 't': 111, 's': 80, 'd': 75, 'g': 67, 'm': 61, 'p': 58, 'b': 57, 'c': 56, 'v': 49, 'y': 29, 'w': 26, 'f': 25, 'k': 12, 'x': 12, 'z': 11, 'h': 9, 'j': 3, 'q': 1})\n",
      "Fourth letter values Counter({'e': 318, 'n': 182, 's': 171, 'a': 163, 'l': 162, 'i': 158, 'c': 152, 'r': 152, 't': 139, 'o': 132, 'u': 82, 'g': 76, 'd': 69, 'm': 68, 'k': 55, 'p': 50, 'v': 46, 'f': 35, 'h': 28, 'w': 25, 'b': 24, 'z': 20, 'x': 3, 'y': 3, 'j': 2})\n",
      "Fifth letter values Counter({'e': 424, 'y': 364, 't': 253, 'r': 212, 'l': 156, 'h': 139, 'n': 130, 'd': 118, 'k': 113, 'a': 64, 'o': 58, 'p': 56, 'm': 42, 'g': 41, 's': 36, 'c': 31, 'f': 26, 'w': 17, 'i': 11, 'b': 11, 'x': 8, 'z': 4, 'u': 1})\n"
     ]
    }
   ],
   "source": [
    "# Create a score for each letter in each position, based on the frequency of that letter appearing in the answers\n",
    "positions = [Counter(),Counter(),Counter(),Counter(),Counter()]\n",
    "for word in answer_words:\n",
    "    for index,letter in enumerate(word):\n",
    "        positions[index][letter] += 1\n",
    "        \n",
    "print(f\"First letter values {positions[0]}\")\n",
    "print(f\"Second letter values {positions[1]}\")\n",
    "print(f\"Third letter values {positions[2]}\")\n",
    "print(f\"Fourth letter values {positions[3]}\")\n",
    "print(f\"Fifth letter values {positions[4]}\")"
   ]
  },
  {
   "cell_type": "code",
   "execution_count": 59,
   "id": "20300b50",
   "metadata": {},
   "outputs": [
    {
     "name": "stdout",
     "output_type": "stream",
     "text": [
      "[('slate', 1437), ('sauce', 1411), ('slice', 1409), ('shale', 1403), ('saute', 1398), ('share', 1393), ('sooty', 1392), ('shine', 1382), ('suite', 1381), ('crane', 1378), ('saint', 1371), ('soapy', 1366), ('shone', 1360), ('shire', 1352), ('saucy', 1351), ('slave', 1344), ('cease', 1342), ('sense', 1342), ('saner', 1339), ('snare', 1336), ('stale', 1336), ('crate', 1335), ('spree', 1332), ('shore', 1330), ('suave', 1329), ('slide', 1326), ('stare', 1326), ('slime', 1325), ('sorry', 1324), ('brace', 1323), ('shiny', 1322), ('gooey', 1320), ('seize', 1318), ('crone', 1315), ('sleet', 1315), ('state', 1313), ('brine', 1312), ('scree', 1311), ('shade', 1310), ('space', 1310), ('spare', 1310), ('shame', 1309), ('slant', 1309), ('sally', 1308), ('scale', 1299), ('spine', 1299), ('trace', 1299), ('shake', 1296), ('stone', 1293), ('tease', 1293), ('shape', 1291), ('scare', 1289), ('shave', 1287), ('salty', 1285), ('sassy', 1285), ('slope', 1285), ('since', 1283), ('poise', 1282), ('swine', 1282), ('boney', 1273), ('snore', 1273), ('stole', 1273), ('sadly', 1271), ('raise', 1270), ('arise', 1269), ('spice', 1269), ('spire', 1269), ('peace', 1267), ('grace', 1265), ('slimy', 1265), ('store', 1263), ('cause', 1262), ('crier', 1261), ('prone', 1259), ('sheet', 1258), ('trice', 1258), ('blare', 1257), ('plane', 1256), ('scone', 1256), ('smile', 1256), ('spite', 1256), ('crony', 1255), ('briny', 1252), ('grate', 1252), ('salve', 1252), ('cagey', 1251), ('price', 1251), ('shady', 1250), ('stage', 1250), ('clone', 1249), ('prose', 1248), ('arose', 1247), ('spore', 1247), ('skate', 1246), ('siege', 1245), ('surer', 1245), ('trite', 1245), ('chase', 1244), ('crave', 1242), ('sandy', 1242)]\n"
     ]
    }
   ],
   "source": [
    "# now let's score the corpus, including the allowed words that will never be answers \n",
    "# (this doesn't actuallly change the answer: the best words are also possible answers)\n",
    "\n",
    "green_scored_words = []\n",
    "for word in answer_words + allowed_words:\n",
    "    score = 0\n",
    "    for index,letter in enumerate(word):\n",
    "        score += positions[index][letter]\n",
    "    green_scored_words.append((word, score))\n",
    "green_scored_words.sort(key = lambda x:x[1], reverse = True)\n",
    "print(green_scored_words[:100])"
   ]
  },
  {
   "cell_type": "markdown",
   "id": "c678fad4",
   "metadata": {},
   "source": []
  },
  {
   "cell_type": "code",
   "execution_count": 60,
   "id": "b4beee0a",
   "metadata": {},
   "outputs": [
    {
     "name": "stdout",
     "output_type": "stream",
     "text": [
      "Best first word: slate\n"
     ]
    }
   ],
   "source": [
    "best_word = green_scored_words[0][0]\n",
    "print(f\"Best first word: {best_word}\")"
   ]
  },
  {
   "cell_type": "code",
   "execution_count": 61,
   "id": "16b42620",
   "metadata": {},
   "outputs": [
    {
     "name": "stdout",
     "output_type": "stream",
     "text": [
      "Best second word: ('crony', 1255)\n"
     ]
    }
   ],
   "source": [
    "#now let's find the best companion word. It's the highest-scoring word\n",
    "#that doesn't share any letters with the first word\n",
    "\n",
    "for scored_word in green_scored_words:\n",
    "    if not any([letter in best_word for letter in scored_word[0]]):  \n",
    "        break\n",
    "\n",
    "print(f\"Best second word: {scored_word}\")"
   ]
  },
  {
   "cell_type": "code",
   "execution_count": 62,
   "id": "03c0ae1f",
   "metadata": {},
   "outputs": [
    {
     "name": "stdout",
     "output_type": "stream",
     "text": [
      "Best combo: (('sooty', 1392), ('crane', 1378))\n"
     ]
    }
   ],
   "source": [
    "# Ok, but is slate-crony really the best combo? It's possible there's a lower-scoring\n",
    "# word than \"slate\" that has a higher-scoring companion than \"crony\", for a higher total\n",
    "# score. Let's take a look at that. Since we know the answer has to beat slate-crony, we \n",
    "# can limit the counting pretty heavily\n",
    "\n",
    "max_score = 0\n",
    "best_combo = ()\n",
    "for first_scored_word in green_scored_words[:100]:\n",
    "    for second_scored_word in green_scored_words[:100]:\n",
    "        if not any([letter in first_scored_word[0] for letter in second_scored_word[0]]):\n",
    "            score = first_scored_word[1] + second_scored_word[1]\n",
    "            if score > max_score:\n",
    "                max_score = score\n",
    "                best_combo = (first_scored_word, second_scored_word)\n",
    "            break\n",
    "\n",
    "print(f\"Best combo: {best_combo}\")"
   ]
  },
  {
   "cell_type": "code",
   "execution_count": 63,
   "id": "2eaf5b7e",
   "metadata": {},
   "outputs": [
    {
     "name": "stdout",
     "output_type": "stream",
     "text": [
      "Average hits from best combo: 0.24\n"
     ]
    }
   ],
   "source": [
    "# Ok, a sooty crane beats a slate of cronies! There's an obviously undesirable element there,\n",
    "# though: \"sooty\" has a double \"o\", wasting the opportunity for a yellow hit. We may need to\n",
    "# take this a bit further, and consider yellow-hit potential. First, let's check how likely\n",
    "# we are to get a green hit from these two words:\n",
    "letters_in_answer_corpus = len(answer_words)*5\n",
    "hits_in_combo = best_combo[0][1] + best_combo[1][1]\n",
    "average_hits = hits_in_combo/letters_in_answer_corpus\n",
    "print(f\"Average hits from best combo: {round(average_hits,2)}\")"
   ]
  },
  {
   "cell_type": "code",
   "execution_count": 64,
   "id": "3be8a2f5",
   "metadata": {},
   "outputs": [
    {
     "name": "stdout",
     "output_type": "stream",
     "text": [
      "Counter({'e': 1233, 'a': 979, 'r': 899, 'o': 754, 't': 729, 'l': 719, 'i': 671, 's': 669, 'n': 575, 'c': 477, 'u': 467, 'y': 425, 'd': 393, 'h': 389, 'p': 367, 'm': 316, 'g': 311, 'b': 281, 'f': 230, 'k': 210, 'w': 195, 'v': 153, 'z': 40, 'x': 37, 'q': 29, 'j': 27})\n"
     ]
    }
   ],
   "source": [
    "# 0.24 hits, in two words? That's actually not that good! Clearly, trying to generate green hits alone might\n",
    "# be too much of an optimistic strategy. Let's add a level, and give yellow hits some weight\n",
    "\n",
    "yellow_values = Counter()\n",
    "for word in answer_words:\n",
    "    for letter in word:\n",
    "        yellow_values[letter] += 1\n",
    "print(yellow_values)"
   ]
  },
  {
   "cell_type": "code",
   "execution_count": 65,
   "id": "91c6cb24",
   "metadata": {},
   "outputs": [
    {
     "name": "stdout",
     "output_type": "stream",
     "text": [
      "[('eerie', 5269), ('eater', 5073), ('erase', 5013), ('rarer', 4909), ('elate', 4893), ('tease', 4843), ('easel', 4833), ('lease', 4833), ('tepee', 4795), ('ester', 4763), ('reset', 4763), ('steer', 4763), ('terse', 4763), ('eaten', 4749), ('terra', 4739), ('melee', 4734), ('error', 4684), ('geese', 4679), ('enter', 4669), ('arena', 4665), ('agree', 4655), ('eager', 4655), ('sneer', 4609), ('cease', 4591), ('elite', 4585), ('sleet', 4583), ('steel', 4583), ('erect', 4571), ('treat', 4569), ('alert', 4559), ('alter', 4559), ('later', 4559), ('arose', 4534), ('retro', 4514), ('erode', 4512), ('irate', 4511), ('scree', 4511), ('leery', 4509), ('stare', 4509), ('reuse', 4501), ('tenet', 4499), ('freer', 4494), ('refer', 4494), ('emcee', 4492), ('deter', 4487), ('racer', 4487), ('ether', 4483), ('there', 4483), ('three', 4483), ('elder', 4477), ('eagle', 4475), ('arise', 4451), ('leper', 4451), ('raise', 4451), ('repel', 4451), ('tense', 4439), ('sheer', 4423), ('meter', 4410), ('egret', 4405), ('greet', 4405), ('learn', 4405), ('renal', 4405), ('spree', 4401), ('elect', 4391), ('latte', 4389), ('sense', 4379), ('parer', 4377), ('beret', 4375), ('riser', 4371), ('rebel', 4365), ('saner', 4355), ('snare', 4355), ('otter', 4344), ('aorta', 4340), ('state', 4339), ('taste', 4339), ('enema', 4336), ('least', 4329), ('slate', 4329), ('stale', 4329), ('steal', 4329), ('rearm', 4326), ('cater', 4317), ('crate', 4317), ('leave', 4317), ('react', 4317), ('trace', 4317), ('teeth', 4313), ('clear', 4307), ('preen', 4307), ('elope', 4306), ('altar', 4305), ('rebar', 4291), ('peace', 4289), ('aware', 4285), ('store', 4284), ('asset', 4279), ('loser', 4274), ('aisle', 4271), ('atone', 4270)]\n"
     ]
    }
   ],
   "source": [
    "# Wow, \"z\" is more common than \"j\"! \"S\" comes in surprisingly low as well, \n",
    "# though we know it's the most common initial letter. Ok, let's score the words\n",
    "# based on their yellow-letter potential\n",
    "\n",
    "yellow_scored_words = []\n",
    "for word in answer_words + allowed_words:\n",
    "    score = sum(yellow_values[letter] for letter in word)\n",
    "    yellow_scored_words.append((word, score))\n",
    "yellow_scored_words.sort(key = lambda x:x[1], reverse = True)\n",
    "print(yellow_scored_words[:100])"
   ]
  },
  {
   "cell_type": "code",
   "execution_count": 66,
   "id": "2f3d47cf",
   "metadata": {},
   "outputs": [
    {
     "name": "stdout",
     "output_type": "stream",
     "text": [
      "[('alert', 4559), ('alter', 4559), ('later', 4559), ('arose', 4534), ('irate', 4511), ('stare', 4509), ('arise', 4451), ('raise', 4451), ('learn', 4405), ('renal', 4405), ('saner', 4355), ('snare', 4355), ('least', 4329), ('slate', 4329), ('stale', 4329), ('steal', 4329), ('cater', 4317), ('crate', 4317), ('react', 4317), ('trace', 4317), ('clear', 4307), ('store', 4284), ('loser', 4274), ('aisle', 4271), ('atone', 4270), ('teary', 4265), ('alone', 4260), ('adore', 4258), ('scare', 4257), ('early', 4255), ('layer', 4255), ('relay', 4255), ('leant', 4235), ('trade', 4233), ('tread', 4233), ('opera', 4232), ('earth', 4229), ('hater', 4229), ('heart', 4229), ('taper', 4207), ('paler', 4197), ('pearl', 4197), ('tenor', 4190), ('alien', 4177), ('aider', 4175), ('share', 4169), ('shear', 4169), ('crane', 4163), ('tamer', 4156), ('grate', 4151), ('great', 4151), ('parse', 4147), ('spare', 4147), ('spear', 4147), ('realm', 4146), ('glare', 4141), ('lager', 4141), ('large', 4141), ('regal', 4141), ('cleat', 4137), ('eclat', 4137), ('snore', 4130), ('baler', 4111), ('blare', 4111), ('yearn', 4111), ('inert', 4107), ('inter', 4107), ('stern', 4105), ('stole', 4104), ('liner', 4097), ('smear', 4096), ('caste', 4087), ('outer', 4082), ('route', 4082), ('saute', 4077), ('scale', 4077), ('after', 4070), ('feral', 4060), ('flare', 4060), ('dealt', 4053), ('delta', 4053), ('taker', 4050), ('lathe', 4049), ('resin', 4047), ('rinse', 4047), ('risen', 4047), ('siren', 4047), ('water', 4035), ('yeast', 4035), ('ratio', 4032), ('score', 4032), ('roast', 4030), ('leapt', 4027), ('petal', 4027), ('plate', 4027), ('pleat', 4027), ('rouse', 4022), ('islet', 4021), ('solar', 4020), ('canoe', 4018)]\n"
     ]
    }
   ],
   "source": [
    "# Uh, there's a problem here: we're getting words with high-scoring repeated letters. No good.\n",
    "# Let's do that again\n",
    "\n",
    "yellow_scored_words = []\n",
    "for word in answer_words + allowed_words:\n",
    "    if len(set(word)) == 5:\n",
    "        score = sum(yellow_values[letter] for letter in word)\n",
    "        yellow_scored_words.append((word, score))\n",
    "yellow_scored_words.sort(key = lambda x:x[1], reverse = True)\n",
    "print(yellow_scored_words[:100])"
   ]
  },
  {
   "cell_type": "code",
   "execution_count": null,
   "id": "2cdab587",
   "metadata": {},
   "outputs": [],
   "source": []
  },
  {
   "cell_type": "code",
   "execution_count": 67,
   "id": "5f272fa0",
   "metadata": {},
   "outputs": [
    {
     "name": "stdout",
     "output_type": "stream",
     "text": [
      "Best combo: (('alert', 4559), ('scion', 3146))\n"
     ]
    }
   ],
   "source": [
    "# Ok, interesting - this list is very different from the green-hit list, though \"slate\",\n",
    "# \"alert\" and \"alter\" are obviously related words. Let's look for the best combo\n",
    "\n",
    "max_score = 0\n",
    "best_combo = ()\n",
    "for first_scored_word in yellow_scored_words:\n",
    "    for second_scored_word in yellow_scored_words:\n",
    "        if not any([letter in first_scored_word[0] for letter in second_scored_word[0]]):\n",
    "            score = first_scored_word[1] + second_scored_word[1]\n",
    "            if score > max_score:\n",
    "                max_score = score\n",
    "                best_combo = (first_scored_word, second_scored_word)\n",
    "            break\n",
    "print(f\"Best combo: {best_combo}\")"
   ]
  },
  {
   "cell_type": "code",
   "execution_count": 68,
   "id": "47f92817",
   "metadata": {},
   "outputs": [
    {
     "name": "stdout",
     "output_type": "stream",
     "text": [
      "Average hits from best combo: 3.33\n"
     ]
    }
   ],
   "source": [
    "# Cool words. How many yellow hits can we expect from this\n",
    "words_in_answer_corpus = len(answer_words)\n",
    "hits_in_combo = best_combo[0][1] + best_combo[1][1]\n",
    "average_hits = hits_in_combo/words_in_answer_corpus\n",
    "print(f\"Average hits from best combo: {round(average_hits,2)}\")"
   ]
  },
  {
   "cell_type": "code",
   "execution_count": 75,
   "id": "2a993514",
   "metadata": {},
   "outputs": [
    {
     "name": "stdout",
     "output_type": "stream",
     "text": [
      "{'slate': 1774, 'sauce': 1773, 'slice': 1772, 'shale': 1771, 'saute': 1770, 'share': 1769, 'shine': 1768, 'suite': 1767, 'crane': 1766, 'saint': 1765, 'soapy': 1764, 'shone': 1763, 'shire': 1762, 'saucy': 1761, 'slave': 1760, 'saner': 1759, 'snare': 1758, 'stale': 1757, 'crate': 1756, 'shore': 1755, 'suave': 1754, 'slide': 1753, 'stare': 1752, 'slime': 1751, 'brace': 1750, 'shiny': 1749, 'crone': 1748, 'brine': 1747, 'shade': 1746, 'space': 1745, 'spare': 1744, 'shame': 1743, 'slant': 1742, 'scale': 1741, 'spine': 1740, 'trace': 1739, 'shake': 1738, 'stone': 1737, 'shape': 1736, 'scare': 1735, 'shave': 1734, 'salty': 1733, 'slope': 1732, 'since': 1731, 'poise': 1730, 'swine': 1729, 'boney': 1728, 'snore': 1727, 'stole': 1726, 'sadly': 1725, 'raise': 1724, 'arise': 1723, 'spice': 1722, 'spire': 1721, 'grace': 1720, 'slimy': 1719, 'store': 1718, 'cause': 1717, 'prone': 1716, 'trice': 1715, 'blare': 1714, 'plane': 1713, 'scone': 1712, 'smile': 1711, 'spite': 1710, 'crony': 1709, 'briny': 1708, 'grate': 1707, 'salve': 1706, 'cagey': 1705, 'price': 1704, 'shady': 1703, 'stage': 1702, 'clone': 1701, 'prose': 1700, 'arose': 1699, 'spore': 1698, 'skate': 1697, 'chase': 1696, 'crave': 1695, 'sandy': 1694, 'surly': 1693, 'scaly': 1692, 'snake': 1691, 'spiny': 1690, 'close': 1689, 'shaky': 1688, 'smite': 1687, 'stony': 1686, 'shalt': 1685, 'sober': 1684, 'swore': 1683, 'scary': 1682, 'stake': 1681, 'drone': 1680, 'solve': 1679, 'spade': 1678, 'brake': 1677, 'place': 1676, 'score': 1675, 'safer': 1674, 'shove': 1673, 'crime': 1672, 'fairy': 1671, 'borne': 1670, 'rainy': 1669, 'flare': 1668, 'stave': 1667, 'brave': 1666, 'craze': 1665, 'daisy': 1664, 'trade': 1663, 'savoy': 1662, 'surge': 1661, 'teary': 1660, 'plate': 1659, 'shied': 1658, 'snide': 1657, 'gaily': 1656, 'smote': 1655, 'spicy': 1654, 'coast': 1653, 'covey': 1652, 'daily': 1651, 'money': 1650, 'singe': 1649, 'pause': 1648, 'matey': 1647, 'parse': 1646, 'boule': 1645, 'story': 1644, 'frame': 1643, 'sower': 1642, 'bride': 1641, 'glare': 1640, 'canoe': 1639, 'dairy': 1638, 'snipe': 1637, 'alone': 1636, 'phase': 1635, 'corny': 1634, 'boast': 1633, 'grade': 1632, 'mealy': 1631, 'chose': 1630, 'shirt': 1629, 'prune': 1628, 'farce': 1627, 'siren': 1626, 'snaky': 1625, 'write': 1624, 'noise': 1623, 'blade': 1622, 'blame': 1621, 'skier': 1620, 'spike': 1619, 'urine': 1618, 'irate': 1617, 'honey': 1616, 'brute': 1615, 'pride': 1614, 'cried': 1613, 'prime': 1612, 'spiel': 1611, 'stoke': 1610, 'piney': 1609, 'drake': 1608, 'voice': 1607, 'broke': 1606, 'grape': 1605, 'chore': 1604, 'guise': 1603, 'slain': 1602, 'drape': 1601, 'grave': 1600, 'meaty': 1599, 'short': 1598, 'sonar': 1597, 'stove': 1596, 'truce': 1595, 'wrote': 1594, 'crazy': 1593, 'tripe': 1592, 'beady': 1591, 'hairy': 1590, 'foamy': 1589, 'force': 1588, 'guile': 1587, 'spoke': 1586, 'cadet': 1585, 'scant': 1584, 'weary': 1583, 'false': 1582, 'paint': 1581, 'beast': 1580, 'mouse': 1579, 'cable': 1578, 'caste': 1577, 'rouse': 1576, 'cater': 1575, 'showy': 1574, 'curse': 1573, 'faint': 1572, 'forte': 1571, 'barge': 1570, 'grime': 1569, 'super': 1568, 'plier': 1567, 'slack': 1566, 'diary': 1565, 'flame': 1564, 'phone': 1563, 'carve': 1562, 'trope': 1561, 'flier': 1560, 'graze': 1559, 'poesy': 1558, 'stray': 1557, 'solar': 1556, 'those': 1555, 'copse': 1554, 'dance': 1553, 'dopey': 1552, 'tribe': 1551, 'trove': 1550, 'spied': 1549, 'slink': 1548, 'louse': 1547, 'smoke': 1546, 'blaze': 1545, 'grant': 1544, 'scope': 1543, 'crude': 1542, 'flake': 1541, 'prove': 1540, 'waive': 1539, 'deity': 1538, 'gripe': 1537, 'point': 1536, 'maize': 1535, 'baste': 1534, 'pansy': 1533, 'stair': 1532, 'whale': 1531, 'worse': 1530, 'baler': 1529, 'prize': 1528, 'tried': 1527, 'noisy': 1526, 'spray': 1525, 'coupe': 1524, 'glade': 1523, 'smart': 1522, 'roast': 1521, 'drive': 1520, 'clove': 1519, 'party': 1518, 'route': 1517, 'shank': 1516, 'spiky': 1515, 'biome': 1514, 'pried': 1513, 'print': 1512, 'shunt': 1511, 'sound': 1510, 'comet': 1509, 'feast': 1508, 'chafe': 1507, 'house': 1506, 'spilt': 1505, 'lance': 1504, 'truly': 1503, 'horse': 1502, 'loamy': 1501, 'blast': 1500, 'foist': 1499, 'foray': 1498, 'fried': 1497, 'shaft': 1496, 'cruel': 1495, 'snort': 1494, 'chide': 1493, 'haute': 1492, 'probe': 1491, 'chime': 1490, 'grope': 1489, 'gravy': 1488, 'silky': 1487, 'whine': 1486, 'slick': 1485, 'bloke': 1484, 'covet': 1483, 'slang': 1482, 'grove': 1481, 'table': 1480, 'fancy': 1479, 'palsy': 1478, 'drove': 1477, 'patsy': 1476, 'froze': 1475, 'irony': 1474, 'meant': 1473, 'caper': 1472, 'paste': 1471, 'pouty': 1470, 'shout': 1469, 'sloth': 1468, 'paler': 1467, 'south': 1466, 'alike': 1465, 'ready': 1464, 'shard': 1463, 'purse': 1462, 'snowy': 1461, 'plant': 1460, 'privy': 1459, 'chant': 1458, 'fable': 1457, 'sixty': 1456, 'sulky': 1455, 'crash': 1454, 'front': 1453, 'shack': 1452, 'shark': 1451, 'forty': 1450, 'grimy': 1449, 'while': 1448, 'alive': 1447, 'badly': 1446, 'forge': 1445, 'nosey': 1444, 'count': 1443, 'cutie': 1442, 'naive': 1441, 'waist': 1440, 'glory': 1439, 'manly': 1438, 'moist': 1437, 'phony': 1436, 'sport': 1435, 'dealt': 1434, 'glide': 1433, 'candy': 1432, 'snail': 1431, 'curly': 1430, 'shoal': 1429, 'leant': 1428, 'frost': 1427, 'chute': 1426, 'bluer': 1425, 'satin': 1424, 'atone': 1423, 'snarl': 1422, 'crank': 1421, 'facet': 1420, 'glaze': 1419, 'lousy': 1418, 'prude': 1417, 'smoky': 1416, 'crest': 1415, 'whose': 1414, 'choke': 1413, 'early': 1412, 'flute': 1411, 'twine': 1410, 'shift': 1409, 'flaky': 1408, 'goner': 1407, 'savor': 1406, 'shear': 1405, 'least': 1404, 'plait': 1403, 'craft': 1402, 'guide': 1401, 'giant': 1400, 'panel': 1399, 'react': 1398, 'style': 1397, 'brash': 1396, 'horny': 1395, 'whole': 1394, 'alien': 1393, 'cover': 1392, 'leaky': 1391, 'sling': 1390, 'white': 1389, 'large': 1388, 'maple': 1387, 'artsy': 1386, 'chart': 1385, 'crust': 1384, 'warty': 1383, 'badge': 1382, 'dicey': 1381, 'heady': 1380, 'brief': 1379, 'cairn': 1378, 'mange': 1377, 'stand': 1376, 'rouge': 1375, 'tardy': 1374, 'burly': 1373, 'juice': 1372, 'range': 1371, 'brand': 1370, 'court': 1369, 'skirt': 1368, 'slept': 1367, 'mauve': 1366, 'quiet': 1365, 'lapse': 1364, 'plied': 1363, 'stank': 1362, 'salon': 1361, 'tamer': 1360, 'sinew': 1359, 'rinse': 1358, 'shirk': 1357, 'study': 1356, 'suing': 1355, 'taper': 1354, 'bathe': 1353, 'brunt': 1352, 'built': 1351, 'wrist': 1350, 'spent': 1349, 'whiny': 1348, 'flint': 1347, 'hoist': 1346, 'quite': 1345, 'stain': 1344, 'camel': 1343, 'trail': 1342, 'leafy': 1341, 'shorn': 1340, 'brain': 1339, 'pulse': 1338, 'twice': 1337, 'bloat': 1336, 'cower': 1335, 'droit': 1334, 'later': 1333, 'solid': 1332, 'trash': 1331, 'snout': 1330, 'tangy': 1329, 'fiery': 1328, 'poser': 1327, 'glove': 1326, 'today': 1325, 'valet': 1324, 'waste': 1323, 'board': 1322, 'pasty': 1321, 'spank': 1320, 'gauze': 1319, 'heavy': 1318, 'mercy': 1317, 'water': 1316, 'slunk': 1315, 'staid': 1314, 'sharp': 1313, 'snack': 1312, 'stalk': 1311, 'tawny': 1310, 'frail': 1309, 'mince': 1308, 'piety': 1307, 'braid': 1306, 'heart': 1305, 'balmy': 1304, 'filet': 1303, 'gruel': 1302, 'fault': 1301, 'proxy': 1300, 'baker': 1299, 'chair': 1298, 'gaunt': 1297, 'shock': 1296, 'spelt': 1295, 'bagel': 1294, 'scent': 1293, 'curve': 1292, 'gaudy': 1291, 'glint': 1290, 'movie': 1289, 'clash': 1288, 'haste': 1287, 'quote': 1286, 'daunt': 1285, 'stack': 1284, 'stark': 1283, 'binge': 1282, 'flair': 1281, 'hater': 1280, 'beach': 1279, 'bugle': 1278, 'dunce': 1277, 'madly': 1276, 'prank': 1275, 'train': 1274, 'gamer': 1273, 'aisle': 1272, 'flirt': 1271, 'globe': 1270, 'shrew': 1269, 'finer': 1268, 'girly': 1267, 'spout': 1266, 'agile': 1265, 'cider': 1264, 'frank': 1263, 'payer': 1262, 'horde': 1261, 'stink': 1260, 'grail': 1259, 'sweat': 1258, 'brink': 1257, 'clank': 1256, 'heist': 1255, 'trial': 1254, 'clued': 1253, 'joint': 1252, 'plume': 1251, 'wince': 1250, 'pearl': 1249, 'spark': 1248, 'broil': 1247, 'shawl': 1246, 'float': 1245, 'spurt': 1244, 'satyr': 1243, 'smelt': 1242, 'godly': 1241, 'quake': 1240, 'swath': 1239, 'taker': 1238, 'boxer': 1237, 'flume': 1236, 'sugar': 1235, 'scald': 1234, 'beard': 1233, 'cleat': 1232, 'delay': 1231, 'grief': 1230, 'afire': 1229, 'purge': 1228, 'brisk': 1227, 'mangy': 1226, 'grand': 1225, 'joist': 1224, 'lager': 1223, 'teach': 1222, 'juicy': 1221, 'track': 1220, 'bilge': 1219, 'anime': 1218, 'mount': 1217, 'relay': 1216, 'croak': 1215, 'hotly': 1214, 'scout': 1213, 'spoil': 1212, 'faith': 1211, 'swirl': 1210, 'tower': 1209, 'wager': 1208, 'alter': 1207, 'diner': 1206, 'grunt': 1205, 'guilt': 1204, 'peach': 1203, 'roach': 1202, 'adore': 1201, 'argue': 1200, 'bland': 1199, 'fluke': 1198, 'nurse': 1197, 'randy': 1196, 'drank': 1195, 'filer': 1194, 'dirty': 1193, 'fruit': 1192, 'spear': 1191, 'yeast': 1190, 'clout': 1189, 'gayer': 1188, 'miner': 1187, 'olive': 1186, 'graft': 1185, 'grain': 1184, 'loser': 1183, 'power': 1182, 'blank': 1181, 'dirge': 1180, 'gloat': 1179, 'sedan': 1178, 'smack': 1177, 'great': 1176, 'blunt': 1175, 'coven': 1174, 'foyer': 1173, 'opine': 1172, 'stick': 1171, 'draft': 1170, 'drain': 1169, 'haunt': 1168, 'sonic': 1167, 'brick': 1166, 'bulge': 1165, 'fibre': 1164, 'motel': 1163, 'aunty': 1162, 'hardy': 1161, 'bleat': 1160, 'moult': 1159, 'perky': 1158, 'waver': 1157, 'anode': 1156, 'broad': 1155, 'mover': 1154, 'value': 1153, 'swift': 1152, 'poker': 1151, 'triad': 1150, 'voter': 1149, 'broth': 1148, 'downy': 1147, 'swear': 1146, 'utile': 1145, 'grout': 1144, 'clink': 1143, 'gazer': 1142, 'coral': 1141, 'liner': 1140, 'noble': 1139, 'crisp': 1138, 'sheik': 1137, 'wordy': 1136, 'burnt': 1135, 'curvy': 1134, 'rogue': 1133, 'choir': 1132, 'hasty': 1131, 'smear': 1130, 'tilde': 1129, 'halve': 1128, 'lathe': 1127, 'serif': 1126, 'slung': 1125, 'splat': 1124, 'flash': 1123, 'carol': 1122, 'crawl': 1121, 'frisk': 1120, 'maker': 1119, 'bowel': 1118, 'chief': 1117, 'loath': 1116, 'squat': 1115, 'stock': 1114, 'stork': 1113, 'clear': 1112, 'layer': 1111, 'minty': 1110, 'wrest': 1109, 'harpy': 1108, 'lanky': 1107, 'split': 1106, 'unite': 1105, 'worst': 1104, 'aider': 1103, 'amity': 1102, 'grind': 1101, 'smith': 1100, 'tiger': 1099, 'frond': 1098, 'leash': 1097, 'trick': 1096, 'vaunt': 1095, 'black': 1094, 'burst': 1093, 'lover': 1092, 'crept': 1091, 'handy': 1090, 'plank': 1089, 'reach': 1088, 'blurt': 1087, 'scour': 1086, 'tipsy': 1085, 'agony': 1084, 'chest': 1083, 'caulk': 1082, 'gavel': 1081, 'lodge': 1080, 'mower': 1079, 'ounce': 1078, 'timer': 1077, 'wafer': 1076, 'blind': 1075, 'crush': 1074, 'leapt': 1073, 'prick': 1072, 'shuck': 1071, 'slurp': 1070, 'amuse': 1069, 'cameo': 1068, 'drink': 1067, 'flank': 1066, 'homer': 1065, 'steal': 1064, 'death': 1063, 'gnome': 1062, 'plain': 1061, 'chain': 1060, 'comfy': 1059, 'bawdy': 1058, 'decay': 1057, 'pleat': 1056, 'sworn': 1055, 'blink': 1054, 'cheat': 1053, 'model': 1052, 'smirk': 1051, 'wrath': 1050, 'budge': 1049, 'scion': 1048, 'clasp': 1047, 'hotel': 1046, 'dowry': 1045, 'drift': 1044, 'repay': 1043, 'scorn': 1042, 'sting': 1041, 'moldy': 1040, 'reply': 1039, 'scalp': 1038, 'scold': 1037, 'bring': 1036, 'clang': 1035, 'brawl': 1034, 'flask': 1033, 'leach': 1032, 'ovine': 1031, 'tacky': 1030, 'towel': 1029, 'ghost': 1028, 'hover': 1027, 'rivet': 1026, 'vault': 1025, 'ovate': 1024, 'plaid': 1023, 'decry': 1022, 'fiber': 1021, 'first': 1020, 'froth': 1019, 'hoard': 1018, 'alert': 1017, 'chalk': 1016, 'jaunt': 1015, 'nasty': 1014, 'sword': 1013, 'gland': 1012, 'lower': 1011, 'merit': 1010, 'could': 1009, 'tuber': 1008, 'wrack': 1007, 'cloth': 1006, 'quart': 1005, 'vague': 1004, 'chard': 1003, 'cloak': 1002, 'groan': 1001, 'learn': 1000, 'miser': 999, 'blond': 998, 'buyer': 997, 'creak': 996, 'ramen': 995, 'rifle': 994, 'abuse': 993, 'bound': 992, 'duvet': 991, 'abide': 990, 'aside': 989, 'flout': 988, 'grasp': 987, 'sight': 986, 'brush': 985, 'laden': 984, 'groin': 983, 'lunge': 982, 'smock': 981, 'taken': 980, 'frock': 979, 'posit': 978, 'swarm': 977, 'fraud': 976, 'gipsy': 975, 'hinge': 974, 'acute': 973, 'flack': 972, 'shown': 971, 'awoke': 970, 'polar': 969, 'stein': 968, 'claim': 967, 'raven': 966, 'sneak': 965, 'build': 964, 'decoy': 963, 'being': 962, 'derby': 961, 'screw': 960, 'spend': 959, 'trawl': 958, 'raspy': 957, 'stunk': 956, 'thief': 955, 'baron': 954, 'brawn': 953, 'guest': 952, 'pinky': 951, 'query': 950, 'stern': 949, 'stead': 948, 'dimly': 947, 'nobly': 946, 'swing': 945, 'begat': 944, 'bread': 943, 'fudge': 942, 'cramp': 941, 'flyer': 940, 'giver': 939, 'harem': 938, 'steak': 937, 'caput': 936, 'lofty': 935, 'serum': 934, 'thank': 933, 'vogue': 932, 'wiser': 931, 'abode': 930, 'manor': 929, 'break': 928, 'trend': 927, 'dingy': 926, 'diver': 925, 'piano': 924, 'scarf': 923, 'bulky': 922, 'cedar': 921, 'dowel': 920, 'fresh': 919, 'quilt': 918, 'swept': 917, 'wider': 916, 'spawn': 915, 'unity': 914, 'child': 913, 'cling': 912, 'heard': 911, 'joust': 910, 'maybe': 909, 'prism': 908, 'sepia': 907, 'token': 906, 'spunk': 905, 'pound': 904, 'salvo': 903, 'tonal': 902, 'azure': 901, 'gusty': 900, 'knave': 899, 'marsh': 898, 'midge': 897, 'touch': 896, 'block': 895, 'pesky': 894, 'snuck': 893, 'filmy': 892, 'ridge': 891, 'torch': 890, 'angle': 889, 'storm': 888, 'tapir': 887, 'dusty': 886, 'fixer': 885, 'found': 884, 'funky': 883, 'speak': 882, 'batch': 881, 'doing': 880, 'image': 879, 'ovary': 878, 'ebony': 877, 'graph': 876, 'guard': 875, 'pouch': 874, 'musty': 873, 'prong': 872, 'stoic': 871, 'trunk': 870, 'bused': 869, 'flour': 868, 'murky': 867, 'nerdy': 866, 'porch': 865, 'shelf': 864, 'aloft': 863, 'rusty': 862, 'spurn': 861, 'stamp': 860, 'tenor': 859, 'tread': 858, 'molar': 857, 'stuck': 856, 'above': 855, 'basil': 854, 'enact': 853, 'hovel': 852, 'prawn': 851, 'women': 850, 'haven': 849, 'clean': 848, 'liver': 847, 'speck': 846, 'flick': 845, 'moral': 844, 'outer': 843, 'drawl': 842, 'golem': 841, 'cavil': 840, 'march': 839, 'cleft': 838, 'crown': 837, 'donut': 836, 'gawky': 835, 'navel': 834, 'chasm': 833, 'wacky': 832, 'peril': 831, 'weird': 830, 'feral': 829, 'rocky': 828, 'woven': 827, 'hazel': 826, 'lefty': 825, 'realm': 824, 'sixth': 823, 'cough': 822, 'lusty': 821, 'setup': 820, 'windy': 819, 'berth': 818, 'chord': 817, 'forth': 816, 'freak': 815, 'slump': 814, 'usage': 813, 'crimp': 812, 'botch': 811, 'china': 810, 'think': 809, 'adobe': 808, 'lithe': 807, 'proud': 806, 'crowd': 805, 'befit': 804, 'blend': 803, 'bravo': 802, 'mound': 801, 'pique': 800, 'baton': 799, 'feign': 798, 'blush': 797, 'dozen': 796, 'round': 795, 'patch': 794, 'cabin': 793, 'cream': 792, 'croup': 791, 'guild': 790, 'older': 789, 'pithy': 788, 'tramp': 787, 'waxen': 786, 'flock': 785, 'truck': 784, 'basin': 783, 'bench': 782, 'jerky': 781, 'charm': 780, 'cloud': 779, 'pudgy': 778, 'rowdy': 777, 'cigar': 776, 'penal': 775, 'clerk': 774, 'habit': 773, 'joker': 772, 'pilot': 771, 'swamp': 770, 'drawn': 769, 'milky': 768, 'their': 767, 'aptly': 766, 'brown': 765, 'hefty': 764, 'novel': 763, 'ranch': 762, 'wring': 761, 'drunk': 760, 'perch': 759, 'scamp': 758, 'yearn': 757, 'risen': 756, 'prowl': 755, 'favor': 754, 'mourn': 753, 'viper': 752, 'bough': 751, 'doubt': 750, 'knife': 749, 'bushy': 748, 'newly': 747, 'scowl': 746, 'stung': 745, 'clamp': 744, 'pixel': 743, 'quail': 742, 'birch': 741, 'gourd': 740, 'mouth': 739, 'third': 738, 'zesty': 737, 'bigot': 736, 'bleak': 735, 'talon': 734, 'wound': 733, 'ankle': 732, 'fling': 731, 'quash': 730, 'anger': 729, 'deign': 728, 'nicer': 727, 'steam': 726, 'strap': 725, 'flesh': 724, 'thick': 723, 'ample': 722, 'amble': 721, 'vowel': 720, 'woken': 719, 'debit': 718, 'strip': 717, 'ulcer': 716, 'wheat': 715, 'gnash': 714, 'picky': 713, 'reign': 712, 'remit': 711, 'thorn': 710, 'belch': 709, 'plush': 708, 'chaos': 707, 'earth': 706, 'squad': 705, 'wrong': 704, 'birth': 703, 'chirp': 702, 'fiend': 701, 'gamut': 700, 'align': 699, 'given': 698, 'gonad': 697, 'oxide': 696, 'petal': 695, 'thyme': 694, 'voila': 693, 'audit': 692, 'hound': 691, 'hunky': 690, 'match': 689, 'ripen': 688, 'untie': 687, 'flush': 686, 'fritz': 685, 'angry': 684, 'stomp': 683, 'fishy': 682, 'quest': 681, 'along': 680, 'ivory': 679, 'cyber': 678, 'exalt': 677, 'fetal': 676, 'midst': 675, 'tough': 674, 'widen': 673, 'erupt': 672, 'growl': 671, 'howdy': 670, 'sumac': 669, 'would': 668, 'abort': 667, 'risky': 666, 'weigh': 665, 'bicep': 664, 'oaken': 663, 'renal': 662, 'world': 661, 'inlet': 660, 'month': 659, 'plunk': 658, 'valor': 657, 'worth': 656, 'wreak': 655, 'chunk': 654, 'frown': 653, 'plead': 652, 'primo': 651, 'whirl': 650, 'pushy': 649, 'cargo': 648, 'whack': 647, 'clown': 646, 'exact': 645, 'nudge': 644, 'sperm': 643, 'swung': 642, 'crypt': 641, 'flora': 640, 'flunk': 639, 'depot': 638, 'dusky': 637, 'final': 636, 'shrug': 635, 'swami': 634, 'bacon': 633, 'field': 632, 'latch': 631, 'vomit': 630, 'labor': 629, 'minor': 628, 'musky': 627, 'wreck': 626, 'threw': 625, 'after': 624, 'focal': 623, 'bunch': 622, 'churn': 621, 'sprig': 620, 'watch': 619, 'lunar': 618, 'scrap': 617, 'clung': 616, 'aloud': 615, 'borax': 614, 'entry': 613, 'glean': 612, 'nadir': 611, 'straw': 610, 'debar': 609, 'unify': 608, 'mayor': 607, 'blitz': 606, 'lumen': 605, 'refit': 604, 'thing': 603, 'grown': 602, 'judge': 601, 'quack': 600, 'quark': 599, 'fetch': 598, 'modal': 597, 'fleck': 596, 'metal': 595, 'onset': 594, 'wispy': 593, 'fluid': 592, 'pedal': 591, 'pivot': 590, 'synod': 589, 'vouch': 588, 'drown': 587, 'whisk': 586, 'exist': 585, 'orbit': 584, 'began': 583, 'mural': 582, 'panic': 581, 'pinch': 580, 'scram': 579, 'blown': 578, 'champ': 577, 'patio': 576, 'pluck': 575, 'dumpy': 574, 'laugh': 573, 'unset': 572, 'begin': 571, 'dough': 570, 'rhyme': 569, 'angel': 568, 'credo': 567, 'finch': 566, 'mucky': 565, 'sigma': 564, 'twirl': 563, 'amber': 562, 'shrub': 561, 'skimp': 560, 'agent': 559, 'fetid': 558, 'mushy': 557, 'olden': 556, 'blimp': 555, 'group': 554, 'rough': 553, 'amply': 552, 'curio': 551, 'edict': 550, 'inter': 549, 'uncle': 548, 'butch': 547, 'dream': 546, 'inlay': 545, 'neigh': 544, 'thong': 543, 'wimpy': 542, 'evict': 541, 'girth': 540, 'major': 539, 'punch': 538, 'edify': 537, 'north': 536, 'tonic': 535, 'rhino': 534, 'wench': 533, 'crump': 532, 'husky': 531, 'owner': 530, 'decor': 529, 'fecal': 528, 'mason': 527, 'felon': 526, 'unmet': 525, 'arson': 524, 'cobra': 523, 'liken': 522, 'mirth': 521, 'wordl': 520, 'lucky': 519, 'lumpy': 518, 'retch': 517, 'vapor': 516, 'dwelt': 515, 'niche': 514, 'welsh': 513, 'basic': 512, 'pitch': 511, 'rugby': 510, 'debut': 509, 'duchy': 508, 'tidal': 507, 'upset': 506, 'climb': 505, 'epoxy': 504, 'medal': 503, 'rapid': 502, 'rabid': 501, 'wield': 500, 'adult': 499, 'ghoul': 498, 'quick': 497, 'quirk': 496, 'tumor': 495, 'zonal': 494, 'manic': 493, 'rebut': 492, 'avert': 491, 'cheap': 490, 'morph': 489, 'recut': 488, 'wrung': 487, 'about': 486, 'flown': 485, 'heron': 484, 'ratio': 483, 'valid': 482, 'cumin': 481, 'femur': 480, 'islet': 479, 'pecan': 478, 'regal': 477, 'royal': 476, 'stump': 475, 'email': 474, 'quoth': 473, 'robin': 472, 'decal': 471, 'filth': 470, 'lurch': 469, 'toxin': 468, 'welch': 467, 'youth': 466, 'viral': 465, 'tango': 464, 'flung': 463, 'tepid': 462, 'under': 461, 'melon': 460, 'munch': 459, 'twang': 458, 'login': 457, 'qualm': 456, 'angst': 455, 'notch': 454, 'bison': 453, 'devil': 452, 'wagon': 451, 'woman': 450, 'ditch': 449, 'resin': 448, 'viola': 447, 'winch': 446, 'lurid': 445, 'ombre': 444, 'wharf': 443, 'tubal': 442, 'ralph': 441, 'bonus': 440, 'crumb': 439, 'torus': 438, 'adopt': 437, 'demur': 436, 'acorn': 435, 'tonga': 434, 'abled': 433, 'squib': 432, 'trump': 431, 'vixen': 430, 'envoy': 429, 'gulch': 428, 'lunch': 427, 'inert': 426, 'forum': 425, 'radio': 424, 'rayon': 423, 'dutch': 422, 'knelt': 421, 'gleam': 420, 'quasi': 419, 'vocal': 418, 'idler': 417, 'mulch': 416, 'video': 415, 'begun': 414, 'scrum': 413, 'denim': 412, 'aping': 411, 'mogul': 410, 'syrup': 409, 'depth': 408, 'clump': 407, 'adorn': 406, 'witch': 405, 'fight': 404, 'lemur': 403, 'mango': 402, 'axion': 401, 'jumpy': 400, 'motif': 399, 'vapid': 398, 'hyper': 397, 'pinto': 396, 'macro': 395, 'verso': 394, 'avoid': 393, 'banjo': 392, 'below': 391, 'demon': 390, 'infer': 389, 'vicar': 388, 'rival': 387, 'topic': 386, 'vital': 385, 'young': 384, 'empty': 383, 'metro': 382, 'psalm': 381, 'visor': 380, 'delta': 379, 'epoch': 378, 'organ': 377, 'magic': 376, 'exult': 375, 'yield': 374, 'tunic': 373, 'scrub': 372, 'pesto': 371, 'tulip': 370, 'tying': 369, 'humor': 368, 'scuba': 367, 'enjoy': 366, 'nomad': 365, 'might': 364, 'other': 363, 'amend': 362, 'imply': 361, 'quota': 360, 'vigor': 359, 'right': 358, 'lemon': 357, 'topaz': 356, 'fjord': 355, 'polka': 354, 'datum': 353, 'urban': 352, 'bingo': 351, 'relic': 350, 'yacht': 349, 'among': 348, 'media': 347, 'tweak': 346, '</det': 345, 'vegan': 344, 'unlit': 343, 'waltz': 342, 'adept': 341, 'dwarf': 340, 'eclat': 339, 'bayou': 338, 'light': 337, 'overt': 336, 'width': 335, 'actor': 334, 'imbue': 333, 'admit': 332, 'wight': 331, 'afoul': 330, 'chump': 329, 'relax': 328, 'toxic': 327, 'apron': 326, 'dying': 325, 'logic': 324, 'eight': 323, 'recap': 322, 'whelp': 321, 'acrid': 320, 'audio': 319, 'ashen': 318, 'medic': 317, 'human': 316, 'often': 315, 'fetus': 314, 'lucid': 313, 'throw': 312, 'detox': 311, 'impel': 310, 'disco': 309, 'hymen': 308, 'inept': 307, 'lying': 306, 'throb': 305, 'ascot': 304, 'venom': 303, 'axiom': 302, 'humid': 301, 'anvil': 300, 'dogma': 299, 'focus': 298, 'helix': 297, 'usher': 296, 'night': 295, 'plumb': 294, 'dingo': 293, 'elfin': 292, 'havoc': 291, 'eying': 290, 'thump': 289, 'unwed': 288, 'unfed': 287, 'thrum': 286, 'turbo': 285, 'gusto': 284, 'micro': 283, 'ought': 282, 'owing': 281, 'pubic': 280, 'ingot': 279, 'eking': 278, 'minus': 277, 'knead': 276, 'lingo': 275, 'music': 274, 'equal': 273, 'ultra': 272, 'tempo': 271, 'itchy': 270, 'unfit': 269, 'vying': 268, 'macho': 267, 'ocean': 266, 'ideal': 265, 'fungi': 264, 'junta': 263, 'buxom': 262, 'until': 261, 'vinyl': 260, 'junto': 259, 'locus': 258, 'lynch': 257, 'using': 256, 'thumb': 255, 'glyph': 254, 'mocha': 253, 'debug': 252, 'rehab': 251, 'antic': 250, 'vista': 249, 'gecko': 248, 'virus': 247, 'album': 246, 'index': 245, 'rebus': 244, 'zebra': 243, 'vodka': 242, 'hyena': 241, 'input': 240, 'ficus': 239, 'octal': 238, 'abhor': 237, 'admin': 236, 'askew': 235, 'opera': 234, 'opium': 233, 'bylaw': 232, 'aphid': 231, 'extol': 230, 'elbow': 229, '<html': 228, '</inc': 224, 'incur': 223, '</tem': 221, 'lyric': 220, 'equip': 219, 'awful': 218, 'gumbo': 217, 'intro': 216, 'rumba': 215, '</mar': 214, 'limbo': 213, '<meta': 210, 'aglow': 209, 'extra': 208, 'optic': 207, 'omega': 206, '</but': 194, 'endow': 193, '<temp': 191, 'hydro': 190, '</for': 178, 'lymph': 177, 'jumbo': 176, 'ethic': 175, 'unzip': 174, 'umbra': 173, '</fil': 172, '<div ': 164, 'ethos': 163, 'inbox': 162, 'nymph': 161, '</a>\\n': 150, '</a> ': 149, '</nav': 148, '</tab': 147, '</div': 110, '</sum': 105, '</spa': 97, '</htm': 96, '</svg': 3, '<p di': 2, '<!DOC': 1}\n"
     ]
    }
   ],
   "source": [
    "# First, let's reorganize as dictionaries, ranking the words by their score. Highest is best\n",
    "# Since the yellow_scored_words is now a substantially shorter list, let's use that one\n",
    "\n",
    "yellow_words = [word[0] for word in yellow_scored_words]\n",
    "green_scored_words = [(word[0], word[1]) for word in green_scored_words if word[0] in yellow_words]\n",
    "green_dict = {word[0]:len(green_scored_words)-rank for rank,word in enumerate(green_scored_words)}\n",
    "yellow_dict = {word[0]:len(yellow_scored_words)-rank for rank,word in enumerate(yellow_scored_words)}\n",
    "\n",
    "print(green_dict)"
   ]
  },
  {
   "cell_type": "code",
   "execution_count": 81,
   "id": "61185aef",
   "metadata": {},
   "outputs": [
    {
     "name": "stdout",
     "output_type": "stream",
     "text": [
      "('stole', 'rainy')\n",
      "stole green rank 1726\n",
      "rainy green rank 1669\n",
      "stole yellow rank 1706\n",
      "rainy yellow rank 1306\n"
     ]
    }
   ],
   "source": [
    "# Now, let's get the combo that has the highest combined rank\n",
    "max_rank = 0\n",
    "for first_word in yellow_words:\n",
    "    for second_word in yellow_words:\n",
    "        if not any([letter in first_word for letter in second_word]):\n",
    "            rank = (\n",
    "                green_dict.get(first_word,0)**2\n",
    "                + green_dict.get(second_word,0)**2\n",
    "                + yellow_dict.get(first_word,0)**2\n",
    "                + yellow_dict.get(second_word,0)**2\n",
    "            )\n",
    "            if rank > max_rank:\n",
    "                max_rank = rank\n",
    "                best_combo = (first_word, second_word)\n",
    "\n",
    "print(best_combo)\n",
    "first_word = best_combo[0]\n",
    "second_word = best_combo[1]\n",
    "print(f\"{first_word} green rank {green_dict.get(first_word,0)}\")\n",
    "print(f\"{second_word} green rank {green_dict.get(second_word,0)}\")\n",
    "print(f\"{first_word} yellow rank {yellow_dict.get(first_word,0)}\")\n",
    "print(f\"{second_word} yellow rank {yellow_dict.get(second_word,0)}\")"
   ]
  },
  {
   "cell_type": "code",
   "execution_count": 82,
   "id": "2009db4e",
   "metadata": {},
   "outputs": [
    {
     "name": "stdout",
     "output_type": "stream",
     "text": [
      "Average hits from best combo: 3.31\n"
     ]
    }
   ],
   "source": [
    "words_in_answer_corpus = len(answer_words)\n",
    "first_word_yellow_score = [word for word in yellow_scored_words if word[0] == first_word][0][1]\n",
    "second_word_yellow_score = [word for word in yellow_scored_words if word[0] == second_word][0][1]\n",
    "hits_in_combo = first_word_yellow_score + second_word_yellow_score\n",
    "average_hits = hits_in_combo/words_in_answer_corpus\n",
    "print(f\"Average yellow hits from best combo: {round(average_hits,2)}\")"
   ]
  },
  {
   "cell_type": "code",
   "execution_count": 85,
   "id": "ec282bda",
   "metadata": {},
   "outputs": [
    {
     "name": "stdout",
     "output_type": "stream",
     "text": [
      "Average green hits from best combo: 0.22\n"
     ]
    }
   ],
   "source": [
    "letters_in_answer_corpus = len(answer_words)*5\n",
    "first_word_green_score = [word for word in green_scored_words if word[0] == first_word][0][1]\n",
    "second_word_green_score = [word for word in green_scored_words if word[0] == second_word][0][1]\n",
    "hits_in_combo = first_word_green_score + second_word_green_score\n",
    "average_hits = hits_in_combo/letters_in_answer_corpus\n",
    "print(f\"Average green hits from best combo: {round(average_hits,2)}\")"
   ]
  },
  {
   "cell_type": "markdown",
   "id": "068db3b7",
   "metadata": {},
   "source": [
    "\"STOLE\", \"RAINY\" looks like a good compromise! It yields 3.31 yellow hits, just under the 3.33 maximum, and 0.22 green hits, just under the 0.24 maximum. I think we have our answer!"
   ]
  }
 ],
 "metadata": {
  "interpreter": {
   "hash": "7490029a00de1c5792881b8eb601592d3e4f5873067e1bee3b34ca71805ac361"
  },
  "kernelspec": {
   "display_name": "Python 3 (ipykernel)",
   "language": "python",
   "name": "python3"
  },
  "language_info": {
   "codemirror_mode": {
    "name": "ipython",
    "version": 3
   },
   "file_extension": ".py",
   "mimetype": "text/x-python",
   "name": "python",
   "nbconvert_exporter": "python",
   "pygments_lexer": "ipython3",
   "version": "3.7.9"
  }
 },
 "nbformat": 4,
 "nbformat_minor": 5
}
